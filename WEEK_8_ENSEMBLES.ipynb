{
  "nbformat": 4,
  "nbformat_minor": 0,
  "metadata": {
    "colab": {
      "name": "WEEK 8 ENSEMBLES",
      "provenance": [],
      "collapsed_sections": []
    },
    "kernelspec": {
      "display_name": "Python 3",
      "name": "python3"
    }
  },
  "cells": [
    {
      "cell_type": "code",
      "metadata": {
        "colab": {
          "base_uri": "https://localhost:8080/"
        },
        "id": "6bsCwdmIeN4f",
        "outputId": "7c498697-425a-4ada-c149-a4489e404a49"
      },
      "source": [
        "from google.colab import drive\n",
        "drive.mount('/gdrive')"
      ],
      "execution_count": null,
      "outputs": [
        {
          "output_type": "stream",
          "text": [
            "Mounted at /gdrive\n"
          ],
          "name": "stdout"
        }
      ]
    },
    {
      "cell_type": "code",
      "metadata": {
        "id": "bdF0zCYKePY4"
      },
      "source": [
        "import numpy as np\n",
        "import pandas as pd \n",
        "import matplotlib.pyplot as plt\n",
        "%matplotlib inline "
      ],
      "execution_count": null,
      "outputs": []
    },
    {
      "cell_type": "code",
      "metadata": {
        "id": "6S_LLuu3eN2O"
      },
      "source": [
        "path = '/gdrive/My Drive/ML:Pilot/data/'"
      ],
      "execution_count": null,
      "outputs": []
    },
    {
      "cell_type": "code",
      "metadata": {
        "id": "ezHMuU-3ex9m"
      },
      "source": [
        "raw_data = pd.read_csv(path + 'online_shoppers_intention.csv')"
      ],
      "execution_count": null,
      "outputs": []
    },
    {
      "cell_type": "code",
      "metadata": {
        "colab": {
          "base_uri": "https://localhost:8080/",
          "height": 215
        },
        "id": "pnb7Xb57e9A3",
        "outputId": "cc24df46-2cdd-4349-9747-23160a40805e"
      },
      "source": [
        "raw_data.head()"
      ],
      "execution_count": null,
      "outputs": [
        {
          "output_type": "execute_result",
          "data": {
            "text/html": [
              "<div>\n",
              "<style scoped>\n",
              "    .dataframe tbody tr th:only-of-type {\n",
              "        vertical-align: middle;\n",
              "    }\n",
              "\n",
              "    .dataframe tbody tr th {\n",
              "        vertical-align: top;\n",
              "    }\n",
              "\n",
              "    .dataframe thead th {\n",
              "        text-align: right;\n",
              "    }\n",
              "</style>\n",
              "<table border=\"1\" class=\"dataframe\">\n",
              "  <thead>\n",
              "    <tr style=\"text-align: right;\">\n",
              "      <th></th>\n",
              "      <th>Administrative</th>\n",
              "      <th>Administrative_Duration</th>\n",
              "      <th>Informational</th>\n",
              "      <th>Informational_Duration</th>\n",
              "      <th>ProductRelated</th>\n",
              "      <th>ProductRelated_Duration</th>\n",
              "      <th>BounceRates</th>\n",
              "      <th>ExitRates</th>\n",
              "      <th>PageValues</th>\n",
              "      <th>SpecialDay</th>\n",
              "      <th>Month</th>\n",
              "      <th>OperatingSystems</th>\n",
              "      <th>Browser</th>\n",
              "      <th>Region</th>\n",
              "      <th>TrafficType</th>\n",
              "      <th>VisitorType</th>\n",
              "      <th>Weekend</th>\n",
              "      <th>Revenue</th>\n",
              "    </tr>\n",
              "  </thead>\n",
              "  <tbody>\n",
              "    <tr>\n",
              "      <th>0</th>\n",
              "      <td>0</td>\n",
              "      <td>0.0</td>\n",
              "      <td>0</td>\n",
              "      <td>0.0</td>\n",
              "      <td>1</td>\n",
              "      <td>0.000000</td>\n",
              "      <td>0.20</td>\n",
              "      <td>0.20</td>\n",
              "      <td>0.0</td>\n",
              "      <td>0.0</td>\n",
              "      <td>Feb</td>\n",
              "      <td>1</td>\n",
              "      <td>1</td>\n",
              "      <td>1</td>\n",
              "      <td>1</td>\n",
              "      <td>Returning_Visitor</td>\n",
              "      <td>False</td>\n",
              "      <td>False</td>\n",
              "    </tr>\n",
              "    <tr>\n",
              "      <th>1</th>\n",
              "      <td>0</td>\n",
              "      <td>0.0</td>\n",
              "      <td>0</td>\n",
              "      <td>0.0</td>\n",
              "      <td>2</td>\n",
              "      <td>64.000000</td>\n",
              "      <td>0.00</td>\n",
              "      <td>0.10</td>\n",
              "      <td>0.0</td>\n",
              "      <td>0.0</td>\n",
              "      <td>Feb</td>\n",
              "      <td>2</td>\n",
              "      <td>2</td>\n",
              "      <td>1</td>\n",
              "      <td>2</td>\n",
              "      <td>Returning_Visitor</td>\n",
              "      <td>False</td>\n",
              "      <td>False</td>\n",
              "    </tr>\n",
              "    <tr>\n",
              "      <th>2</th>\n",
              "      <td>0</td>\n",
              "      <td>0.0</td>\n",
              "      <td>0</td>\n",
              "      <td>0.0</td>\n",
              "      <td>1</td>\n",
              "      <td>0.000000</td>\n",
              "      <td>0.20</td>\n",
              "      <td>0.20</td>\n",
              "      <td>0.0</td>\n",
              "      <td>0.0</td>\n",
              "      <td>Feb</td>\n",
              "      <td>4</td>\n",
              "      <td>1</td>\n",
              "      <td>9</td>\n",
              "      <td>3</td>\n",
              "      <td>Returning_Visitor</td>\n",
              "      <td>False</td>\n",
              "      <td>False</td>\n",
              "    </tr>\n",
              "    <tr>\n",
              "      <th>3</th>\n",
              "      <td>0</td>\n",
              "      <td>0.0</td>\n",
              "      <td>0</td>\n",
              "      <td>0.0</td>\n",
              "      <td>2</td>\n",
              "      <td>2.666667</td>\n",
              "      <td>0.05</td>\n",
              "      <td>0.14</td>\n",
              "      <td>0.0</td>\n",
              "      <td>0.0</td>\n",
              "      <td>Feb</td>\n",
              "      <td>3</td>\n",
              "      <td>2</td>\n",
              "      <td>2</td>\n",
              "      <td>4</td>\n",
              "      <td>Returning_Visitor</td>\n",
              "      <td>False</td>\n",
              "      <td>False</td>\n",
              "    </tr>\n",
              "    <tr>\n",
              "      <th>4</th>\n",
              "      <td>0</td>\n",
              "      <td>0.0</td>\n",
              "      <td>0</td>\n",
              "      <td>0.0</td>\n",
              "      <td>10</td>\n",
              "      <td>627.500000</td>\n",
              "      <td>0.02</td>\n",
              "      <td>0.05</td>\n",
              "      <td>0.0</td>\n",
              "      <td>0.0</td>\n",
              "      <td>Feb</td>\n",
              "      <td>3</td>\n",
              "      <td>3</td>\n",
              "      <td>1</td>\n",
              "      <td>4</td>\n",
              "      <td>Returning_Visitor</td>\n",
              "      <td>True</td>\n",
              "      <td>False</td>\n",
              "    </tr>\n",
              "  </tbody>\n",
              "</table>\n",
              "</div>"
            ],
            "text/plain": [
              "   Administrative  Administrative_Duration  ...  Weekend  Revenue\n",
              "0               0                      0.0  ...    False    False\n",
              "1               0                      0.0  ...    False    False\n",
              "2               0                      0.0  ...    False    False\n",
              "3               0                      0.0  ...    False    False\n",
              "4               0                      0.0  ...     True    False\n",
              "\n",
              "[5 rows x 18 columns]"
            ]
          },
          "metadata": {
            "tags": []
          },
          "execution_count": 5
        }
      ]
    },
    {
      "cell_type": "code",
      "metadata": {
        "colab": {
          "base_uri": "https://localhost:8080/"
        },
        "id": "NFXUbn8ffCKa",
        "outputId": "7d332a74-d3ac-47fc-d542-5679d4c65cf6"
      },
      "source": [
        "raw_data.shape"
      ],
      "execution_count": null,
      "outputs": [
        {
          "output_type": "execute_result",
          "data": {
            "text/plain": [
              "(12330, 18)"
            ]
          },
          "metadata": {
            "tags": []
          },
          "execution_count": 6
        }
      ]
    },
    {
      "cell_type": "code",
      "metadata": {
        "colab": {
          "base_uri": "https://localhost:8080/"
        },
        "id": "qoi6XJFafRlI",
        "outputId": "87a42cea-7306-458c-b4f2-3f868b778d5b"
      },
      "source": [
        "raw_data.isnull().sum(axis=0)"
      ],
      "execution_count": null,
      "outputs": [
        {
          "output_type": "execute_result",
          "data": {
            "text/plain": [
              "Administrative             0\n",
              "Administrative_Duration    0\n",
              "Informational              0\n",
              "Informational_Duration     0\n",
              "ProductRelated             0\n",
              "ProductRelated_Duration    0\n",
              "BounceRates                0\n",
              "ExitRates                  0\n",
              "PageValues                 0\n",
              "SpecialDay                 0\n",
              "Month                      0\n",
              "OperatingSystems           0\n",
              "Browser                    0\n",
              "Region                     0\n",
              "TrafficType                0\n",
              "VisitorType                0\n",
              "Weekend                    0\n",
              "Revenue                    0\n",
              "dtype: int64"
            ]
          },
          "metadata": {
            "tags": []
          },
          "execution_count": 7
        }
      ]
    },
    {
      "cell_type": "code",
      "metadata": {
        "id": "dTwxiTNJfnI4"
      },
      "source": [
        "from sklearn.preprocessing import LabelEncoder"
      ],
      "execution_count": null,
      "outputs": []
    },
    {
      "cell_type": "code",
      "metadata": {
        "id": "nsA2aQyCfwWi"
      },
      "source": [
        "month_encoder = LabelEncoder()\n",
        "visitor_encoder = LabelEncoder()\n",
        "weekend_encoder = LabelEncoder()\n",
        "revenue_encoder = LabelEncoder()     "
      ],
      "execution_count": null,
      "outputs": []
    },
    {
      "cell_type": "code",
      "metadata": {
        "id": "KaKscu80gTaT"
      },
      "source": [
        "raw_data[\"Month\"] = month_encoder.fit_transform(raw_data[\"Month\"])\n",
        "raw_data[\"VisitorType\"] = visitor_encoder.fit_transform(raw_data[\"VisitorType\"])\n",
        "raw_data[\"Weekend\"] = weekend_encoder.fit_transform(raw_data[\"Weekend\"])\n",
        "raw_data[\"Revenue\"] = revenue_encoder.fit_transform(raw_data[\"Revenue\"])"
      ],
      "execution_count": null,
      "outputs": []
    },
    {
      "cell_type": "code",
      "metadata": {
        "id": "QJkW2zMwiB8u"
      },
      "source": [
        "x = raw_data.drop(columns= [\"Revenue\"])\n",
        "y = raw_data[\"Revenue\"]"
      ],
      "execution_count": null,
      "outputs": []
    },
    {
      "cell_type": "code",
      "metadata": {
        "id": "CU-ABXD3iU7A"
      },
      "source": [
        "x = np.array(x)\n",
        "y = np.array(y)"
      ],
      "execution_count": null,
      "outputs": []
    },
    {
      "cell_type": "code",
      "metadata": {
        "colab": {
          "base_uri": "https://localhost:8080/"
        },
        "id": "r0PNkH38ibbx",
        "outputId": "2f039045-f4c2-4dc5-ad1b-596e8297bae8"
      },
      "source": [
        "x.shape, y.shape"
      ],
      "execution_count": null,
      "outputs": [
        {
          "output_type": "execute_result",
          "data": {
            "text/plain": [
              "((12330, 17), (12330,))"
            ]
          },
          "metadata": {
            "tags": []
          },
          "execution_count": 13
        }
      ]
    },
    {
      "cell_type": "code",
      "metadata": {
        "id": "ihfcU6gqidGq"
      },
      "source": [
        "from sklearn.model_selection import train_test_split\n",
        "x_train, x_test, y_train, y_test = train_test_split(x,y, test_size = 0.25, random_state=1) "
      ],
      "execution_count": null,
      "outputs": []
    },
    {
      "cell_type": "code",
      "metadata": {
        "colab": {
          "base_uri": "https://localhost:8080/"
        },
        "id": "ke7HT7Z8iuVu",
        "outputId": "bf8e93e9-820a-4717-c284-0e14400e740b"
      },
      "source": [
        "x_train.shape, x_test.shape"
      ],
      "execution_count": null,
      "outputs": [
        {
          "output_type": "execute_result",
          "data": {
            "text/plain": [
              "((9247, 17), (3083, 17))"
            ]
          },
          "metadata": {
            "tags": []
          },
          "execution_count": 15
        }
      ]
    },
    {
      "cell_type": "code",
      "metadata": {
        "colab": {
          "base_uri": "https://localhost:8080/"
        },
        "id": "QVJTJOc1ixaJ",
        "outputId": "13bf0f75-a3d9-4c43-d8f6-f1ce644ed2d1"
      },
      "source": [
        "y_train.shape, y_test.shape"
      ],
      "execution_count": null,
      "outputs": [
        {
          "output_type": "execute_result",
          "data": {
            "text/plain": [
              "((9247,), (3083,))"
            ]
          },
          "metadata": {
            "tags": []
          },
          "execution_count": 16
        }
      ]
    },
    {
      "cell_type": "code",
      "metadata": {
        "id": "wJbH9eawi0ox"
      },
      "source": [
        "from sklearn.linear_model import LogisticRegression\n",
        "from sklearn.model_selection import GridSearchCV\n",
        "from sklearn.model_selection import StratifiedKFold"
      ],
      "execution_count": null,
      "outputs": []
    },
    {
      "cell_type": "code",
      "metadata": {
        "colab": {
          "base_uri": "https://localhost:8080/"
        },
        "id": "urqhoW0elF80",
        "outputId": "2c16c746-8739-453f-d6e1-96635a30de06"
      },
      "source": [
        "fold = StratifiedKFold(n_splits = 5, random_state=1, shuffle = True)\n",
        "fold.get_n_splits(x_train, y_train)"
      ],
      "execution_count": null,
      "outputs": [
        {
          "output_type": "execute_result",
          "data": {
            "text/plain": [
              "5"
            ]
          },
          "metadata": {
            "tags": []
          },
          "execution_count": 18
        }
      ]
    },
    {
      "cell_type": "code",
      "metadata": {
        "colab": {
          "base_uri": "https://localhost:8080/"
        },
        "id": "V0lGtTN8lWvO",
        "outputId": "31212804-a5ce-4343-a730-5f9434698519"
      },
      "source": [
        "parameters = {'solver' : ('newton-cg', 'liblinear', 'sag', 'saga'), 'C' : [0.001,10]}\n",
        "\n",
        "model = LogisticRegression(penalty= 'l2', n_jobs = -2, max_iter = 1000)\n",
        "log_reg = GridSearchCV(model, parameters, n_jobs = -2, cv = fold)\n",
        "\n",
        "log_reg.fit(x_train, y_train)"
      ],
      "execution_count": null,
      "outputs": [
        {
          "output_type": "stream",
          "text": [
            "/usr/local/lib/python3.6/dist-packages/sklearn/linear_model/_sag.py:330: ConvergenceWarning: The max_iter was reached which means the coef_ did not converge\n",
            "  \"the coef_ did not converge\", ConvergenceWarning)\n",
            "/usr/local/lib/python3.6/dist-packages/sklearn/linear_model/_sag.py:330: ConvergenceWarning: The max_iter was reached which means the coef_ did not converge\n",
            "  \"the coef_ did not converge\", ConvergenceWarning)\n",
            "/usr/local/lib/python3.6/dist-packages/sklearn/linear_model/_sag.py:330: ConvergenceWarning: The max_iter was reached which means the coef_ did not converge\n",
            "  \"the coef_ did not converge\", ConvergenceWarning)\n",
            "/usr/local/lib/python3.6/dist-packages/sklearn/linear_model/_sag.py:330: ConvergenceWarning: The max_iter was reached which means the coef_ did not converge\n",
            "  \"the coef_ did not converge\", ConvergenceWarning)\n",
            "/usr/local/lib/python3.6/dist-packages/sklearn/linear_model/_sag.py:330: ConvergenceWarning: The max_iter was reached which means the coef_ did not converge\n",
            "  \"the coef_ did not converge\", ConvergenceWarning)\n",
            "/usr/local/lib/python3.6/dist-packages/sklearn/linear_model/_sag.py:330: ConvergenceWarning: The max_iter was reached which means the coef_ did not converge\n",
            "  \"the coef_ did not converge\", ConvergenceWarning)\n",
            "/usr/local/lib/python3.6/dist-packages/sklearn/linear_model/_sag.py:330: ConvergenceWarning: The max_iter was reached which means the coef_ did not converge\n",
            "  \"the coef_ did not converge\", ConvergenceWarning)\n",
            "/usr/local/lib/python3.6/dist-packages/sklearn/linear_model/_sag.py:330: ConvergenceWarning: The max_iter was reached which means the coef_ did not converge\n",
            "  \"the coef_ did not converge\", ConvergenceWarning)\n",
            "/usr/local/lib/python3.6/dist-packages/sklearn/linear_model/_sag.py:330: ConvergenceWarning: The max_iter was reached which means the coef_ did not converge\n",
            "  \"the coef_ did not converge\", ConvergenceWarning)\n",
            "/usr/local/lib/python3.6/dist-packages/sklearn/linear_model/_sag.py:330: ConvergenceWarning: The max_iter was reached which means the coef_ did not converge\n",
            "  \"the coef_ did not converge\", ConvergenceWarning)\n",
            "/usr/local/lib/python3.6/dist-packages/scipy/optimize/linesearch.py:466: LineSearchWarning: The line search algorithm did not converge\n",
            "  warn('The line search algorithm did not converge', LineSearchWarning)\n",
            "/usr/local/lib/python3.6/dist-packages/scipy/optimize/linesearch.py:314: LineSearchWarning: The line search algorithm did not converge\n",
            "  warn('The line search algorithm did not converge', LineSearchWarning)\n",
            "/usr/local/lib/python3.6/dist-packages/scipy/optimize/linesearch.py:466: LineSearchWarning: The line search algorithm did not converge\n",
            "  warn('The line search algorithm did not converge', LineSearchWarning)\n",
            "/usr/local/lib/python3.6/dist-packages/scipy/optimize/linesearch.py:314: LineSearchWarning: The line search algorithm did not converge\n",
            "  warn('The line search algorithm did not converge', LineSearchWarning)\n",
            "/usr/local/lib/python3.6/dist-packages/scipy/optimize/linesearch.py:466: LineSearchWarning: The line search algorithm did not converge\n",
            "  warn('The line search algorithm did not converge', LineSearchWarning)\n",
            "/usr/local/lib/python3.6/dist-packages/scipy/optimize/linesearch.py:314: LineSearchWarning: The line search algorithm did not converge\n",
            "  warn('The line search algorithm did not converge', LineSearchWarning)\n",
            "/usr/local/lib/python3.6/dist-packages/scipy/optimize/linesearch.py:466: LineSearchWarning: The line search algorithm did not converge\n",
            "  warn('The line search algorithm did not converge', LineSearchWarning)\n",
            "/usr/local/lib/python3.6/dist-packages/scipy/optimize/linesearch.py:314: LineSearchWarning: The line search algorithm did not converge\n",
            "  warn('The line search algorithm did not converge', LineSearchWarning)\n",
            "/usr/local/lib/python3.6/dist-packages/scipy/optimize/linesearch.py:466: LineSearchWarning: The line search algorithm did not converge\n",
            "  warn('The line search algorithm did not converge', LineSearchWarning)\n",
            "/usr/local/lib/python3.6/dist-packages/scipy/optimize/linesearch.py:314: LineSearchWarning: The line search algorithm did not converge\n",
            "  warn('The line search algorithm did not converge', LineSearchWarning)\n",
            "/usr/local/lib/python3.6/dist-packages/scipy/optimize/linesearch.py:466: LineSearchWarning: The line search algorithm did not converge\n",
            "  warn('The line search algorithm did not converge', LineSearchWarning)\n",
            "/usr/local/lib/python3.6/dist-packages/scipy/optimize/linesearch.py:314: LineSearchWarning: The line search algorithm did not converge\n",
            "  warn('The line search algorithm did not converge', LineSearchWarning)\n",
            "/usr/local/lib/python3.6/dist-packages/sklearn/linear_model/_sag.py:330: ConvergenceWarning: The max_iter was reached which means the coef_ did not converge\n",
            "  \"the coef_ did not converge\", ConvergenceWarning)\n",
            "/usr/local/lib/python3.6/dist-packages/sklearn/linear_model/_sag.py:330: ConvergenceWarning: The max_iter was reached which means the coef_ did not converge\n",
            "  \"the coef_ did not converge\", ConvergenceWarning)\n",
            "/usr/local/lib/python3.6/dist-packages/sklearn/linear_model/_sag.py:330: ConvergenceWarning: The max_iter was reached which means the coef_ did not converge\n",
            "  \"the coef_ did not converge\", ConvergenceWarning)\n",
            "/usr/local/lib/python3.6/dist-packages/sklearn/linear_model/_sag.py:330: ConvergenceWarning: The max_iter was reached which means the coef_ did not converge\n",
            "  \"the coef_ did not converge\", ConvergenceWarning)\n",
            "/usr/local/lib/python3.6/dist-packages/sklearn/linear_model/_sag.py:330: ConvergenceWarning: The max_iter was reached which means the coef_ did not converge\n",
            "  \"the coef_ did not converge\", ConvergenceWarning)\n",
            "/usr/local/lib/python3.6/dist-packages/sklearn/linear_model/_sag.py:330: ConvergenceWarning: The max_iter was reached which means the coef_ did not converge\n",
            "  \"the coef_ did not converge\", ConvergenceWarning)\n",
            "/usr/local/lib/python3.6/dist-packages/sklearn/linear_model/_sag.py:330: ConvergenceWarning: The max_iter was reached which means the coef_ did not converge\n",
            "  \"the coef_ did not converge\", ConvergenceWarning)\n",
            "/usr/local/lib/python3.6/dist-packages/sklearn/linear_model/_sag.py:330: ConvergenceWarning: The max_iter was reached which means the coef_ did not converge\n",
            "  \"the coef_ did not converge\", ConvergenceWarning)\n",
            "/usr/local/lib/python3.6/dist-packages/sklearn/linear_model/_sag.py:330: ConvergenceWarning: The max_iter was reached which means the coef_ did not converge\n",
            "  \"the coef_ did not converge\", ConvergenceWarning)\n",
            "/usr/local/lib/python3.6/dist-packages/sklearn/linear_model/_sag.py:330: ConvergenceWarning: The max_iter was reached which means the coef_ did not converge\n",
            "  \"the coef_ did not converge\", ConvergenceWarning)\n",
            "/usr/local/lib/python3.6/dist-packages/scipy/optimize/linesearch.py:466: LineSearchWarning: The line search algorithm did not converge\n",
            "  warn('The line search algorithm did not converge', LineSearchWarning)\n",
            "/usr/local/lib/python3.6/dist-packages/scipy/optimize/linesearch.py:314: LineSearchWarning: The line search algorithm did not converge\n",
            "  warn('The line search algorithm did not converge', LineSearchWarning)\n",
            "/usr/local/lib/python3.6/dist-packages/scipy/optimize/linesearch.py:466: LineSearchWarning: The line search algorithm did not converge\n",
            "  warn('The line search algorithm did not converge', LineSearchWarning)\n",
            "/usr/local/lib/python3.6/dist-packages/scipy/optimize/linesearch.py:314: LineSearchWarning: The line search algorithm did not converge\n",
            "  warn('The line search algorithm did not converge', LineSearchWarning)\n",
            "/usr/local/lib/python3.6/dist-packages/scipy/optimize/linesearch.py:466: LineSearchWarning: The line search algorithm did not converge\n",
            "  warn('The line search algorithm did not converge', LineSearchWarning)\n",
            "/usr/local/lib/python3.6/dist-packages/scipy/optimize/linesearch.py:314: LineSearchWarning: The line search algorithm did not converge\n",
            "  warn('The line search algorithm did not converge', LineSearchWarning)\n",
            "/usr/local/lib/python3.6/dist-packages/scipy/optimize/linesearch.py:426: LineSearchWarning: Rounding errors prevent the line search from converging\n",
            "  warn(msg, LineSearchWarning)\n",
            "/usr/local/lib/python3.6/dist-packages/scipy/optimize/linesearch.py:314: LineSearchWarning: The line search algorithm did not converge\n",
            "  warn('The line search algorithm did not converge', LineSearchWarning)\n",
            "/usr/local/lib/python3.6/dist-packages/sklearn/utils/optimize.py:204: UserWarning: Line Search failed\n",
            "  warnings.warn('Line Search failed')\n"
          ],
          "name": "stderr"
        },
        {
          "output_type": "execute_result",
          "data": {
            "text/plain": [
              "GridSearchCV(cv=StratifiedKFold(n_splits=5, random_state=1, shuffle=True),\n",
              "             error_score=nan,\n",
              "             estimator=LogisticRegression(C=1.0, class_weight=None, dual=False,\n",
              "                                          fit_intercept=True,\n",
              "                                          intercept_scaling=1, l1_ratio=None,\n",
              "                                          max_iter=1000, multi_class='auto',\n",
              "                                          n_jobs=-2, penalty='l2',\n",
              "                                          random_state=None, solver='lbfgs',\n",
              "                                          tol=0.0001, verbose=0,\n",
              "                                          warm_start=False),\n",
              "             iid='deprecated', n_jobs=-2,\n",
              "             param_grid={'C': [0.001, 10],\n",
              "                         'solver': ('newton-cg', 'liblinear', 'sag', 'saga')},\n",
              "             pre_dispatch='2*n_jobs', refit=True, return_train_score=False,\n",
              "             scoring=None, verbose=0)"
            ]
          },
          "metadata": {
            "tags": []
          },
          "execution_count": 19
        }
      ]
    },
    {
      "cell_type": "code",
      "metadata": {
        "colab": {
          "base_uri": "https://localhost:8080/"
        },
        "id": "29ir7EnumBbs",
        "outputId": "70cab056-5c53-4438-faea-cdf19cc4dc0a"
      },
      "source": [
        "print(log_reg.best_params_)"
      ],
      "execution_count": null,
      "outputs": [
        {
          "output_type": "stream",
          "text": [
            "{'C': 10, 'solver': 'newton-cg'}\n"
          ],
          "name": "stdout"
        }
      ]
    },
    {
      "cell_type": "code",
      "metadata": {
        "colab": {
          "base_uri": "https://localhost:8080/"
        },
        "id": "RQNB1BuUrcDC",
        "outputId": "1f2a9f99-8c91-4845-9ed1-7024b3cb226c"
      },
      "source": [
        "y_pred_log_reg = log_reg.predict(x_test)\n",
        "from sklearn.metrics import classification_report, accuracy_score\n",
        "print(classification_report(y_test, y_pred_log_reg)) "
      ],
      "execution_count": null,
      "outputs": [
        {
          "output_type": "stream",
          "text": [
            "              precision    recall  f1-score   support\n",
            "\n",
            "           0       0.90      0.98      0.94      2636\n",
            "           1       0.72      0.38      0.49       447\n",
            "\n",
            "    accuracy                           0.89      3083\n",
            "   macro avg       0.81      0.68      0.72      3083\n",
            "weighted avg       0.88      0.89      0.87      3083\n",
            "\n"
          ],
          "name": "stdout"
        }
      ]
    },
    {
      "cell_type": "code",
      "metadata": {
        "colab": {
          "base_uri": "https://localhost:8080/"
        },
        "id": "N2QZBDRVuHp-",
        "outputId": "12ae75aa-101d-4f63-c94a-887a468b8465"
      },
      "source": [
        "ac = accuracy_score(y_test, y_pred_log_reg)\n",
        "print('test accuracy = {}%'.format(ac * 100))"
      ],
      "execution_count": null,
      "outputs": [
        {
          "output_type": "stream",
          "text": [
            "test accuracy = 88.84203697697049%\n"
          ],
          "name": "stdout"
        }
      ]
    },
    {
      "cell_type": "markdown",
      "metadata": {
        "id": "nmUyUWKvuclH"
      },
      "source": [
        "#<b>KNN</b>"
      ]
    },
    {
      "cell_type": "code",
      "metadata": {
        "colab": {
          "base_uri": "https://localhost:8080/"
        },
        "id": "SLJA0_29uWTM",
        "outputId": "08b5d34b-afce-44b1-a460-04a2188ca249"
      },
      "source": [
        "from sklearn.neighbors import KNeighborsClassifier\n",
        "from sklearn.metrics import fbeta_score, make_scorer\n",
        "\n",
        "f_scorer = make_scorer(fbeta_score, beta =1, pos_label = 1)\n",
        "params = {'n_neighbors':[1,1500]}\n",
        "\n",
        "KNN = KNeighborsClassifier(algorithm = 'brute')\n",
        "knn_grid = GridSearchCV(KNN, params, n_jobs=-2, cv = fold, scoring=f_scorer, verbose=True )\n",
        "\n",
        "knn_grid.fit(x_train, y_train)"
      ],
      "execution_count": null,
      "outputs": [
        {
          "output_type": "stream",
          "text": [
            "Fitting 5 folds for each of 2 candidates, totalling 10 fits\n"
          ],
          "name": "stdout"
        },
        {
          "output_type": "stream",
          "text": [
            "[Parallel(n_jobs=-2)]: Using backend SequentialBackend with 1 concurrent workers.\n",
            "[Parallel(n_jobs=-2)]: Done  10 out of  10 | elapsed:    5.0s finished\n"
          ],
          "name": "stderr"
        },
        {
          "output_type": "execute_result",
          "data": {
            "text/plain": [
              "GridSearchCV(cv=StratifiedKFold(n_splits=5, random_state=1, shuffle=True),\n",
              "             error_score=nan,\n",
              "             estimator=KNeighborsClassifier(algorithm='brute', leaf_size=30,\n",
              "                                            metric='minkowski',\n",
              "                                            metric_params=None, n_jobs=None,\n",
              "                                            n_neighbors=5, p=2,\n",
              "                                            weights='uniform'),\n",
              "             iid='deprecated', n_jobs=-2, param_grid={'n_neighbors': [1, 1500]},\n",
              "             pre_dispatch='2*n_jobs', refit=True, return_train_score=False,\n",
              "             scoring=make_scorer(fbeta_score, beta=1, pos_label=1),\n",
              "             verbose=True)"
            ]
          },
          "metadata": {
            "tags": []
          },
          "execution_count": 23
        }
      ]
    },
    {
      "cell_type": "code",
      "metadata": {
        "colab": {
          "base_uri": "https://localhost:8080/"
        },
        "id": "G2l3XUCGwGPG",
        "outputId": "ee941846-0cd0-412e-d52a-34080a0f8ab3"
      },
      "source": [
        "print(knn_grid.best_params_)"
      ],
      "execution_count": null,
      "outputs": [
        {
          "output_type": "stream",
          "text": [
            "{'n_neighbors': 1}\n"
          ],
          "name": "stdout"
        }
      ]
    },
    {
      "cell_type": "code",
      "metadata": {
        "colab": {
          "base_uri": "https://localhost:8080/"
        },
        "id": "R6v17rKBwYIA",
        "outputId": "f1d62301-3e52-4425-d135-763fd77d5b47"
      },
      "source": [
        "y_pred_knn = knn_grid.predict(x_test)\n",
        "print(classification_report(y_test, y_pred_knn))\n",
        "\n",
        "ac = accuracy_score(y_test,y_pred_knn)\n",
        "print('test accuracy = {}%'.format(ac*100))"
      ],
      "execution_count": null,
      "outputs": [
        {
          "output_type": "stream",
          "text": [
            "              precision    recall  f1-score   support\n",
            "\n",
            "           0       0.90      0.90      0.90      2636\n",
            "           1       0.41      0.41      0.41       447\n",
            "\n",
            "    accuracy                           0.83      3083\n",
            "   macro avg       0.66      0.65      0.65      3083\n",
            "weighted avg       0.83      0.83      0.83      3083\n",
            "\n",
            "test accuracy = 82.90626013623094%\n"
          ],
          "name": "stdout"
        }
      ]
    },
    {
      "cell_type": "code",
      "metadata": {
        "colab": {
          "base_uri": "https://localhost:8080/"
        },
        "id": "H0NYaOb3xbEd",
        "outputId": "0b02c5ec-e0fa-4ea3-a55d-3bfe8e699919"
      },
      "source": [
        "error = []\n",
        "y_train = y_train.ravel()\n",
        "#for calculating error for  values between 1 and 10\n",
        "\n",
        "for i in range(1,11):\n",
        "    knn = KNeighborsClassifier(algorithm='brute', n_neighbors=i)\n",
        "    print('K value = {}'.format(i))\n",
        "\n",
        "    knn.fit(x_train, y_train)\n",
        "\n",
        "    pred_i = knn.predict(x_test)\n",
        "    print(classification_report(y_test, pred_i))"
      ],
      "execution_count": null,
      "outputs": [
        {
          "output_type": "stream",
          "text": [
            "K value = 1\n",
            "              precision    recall  f1-score   support\n",
            "\n",
            "           0       0.90      0.90      0.90      2636\n",
            "           1       0.41      0.41      0.41       447\n",
            "\n",
            "    accuracy                           0.83      3083\n",
            "   macro avg       0.66      0.65      0.65      3083\n",
            "weighted avg       0.83      0.83      0.83      3083\n",
            "\n",
            "K value = 2\n",
            "              precision    recall  f1-score   support\n",
            "\n",
            "           0       0.88      0.97      0.93      2636\n",
            "           1       0.60      0.25      0.35       447\n",
            "\n",
            "    accuracy                           0.87      3083\n",
            "   macro avg       0.74      0.61      0.64      3083\n",
            "weighted avg       0.84      0.87      0.84      3083\n",
            "\n",
            "K value = 3\n",
            "              precision    recall  f1-score   support\n",
            "\n",
            "           0       0.90      0.94      0.92      2636\n",
            "           1       0.54      0.38      0.44       447\n",
            "\n",
            "    accuracy                           0.86      3083\n",
            "   macro avg       0.72      0.66      0.68      3083\n",
            "weighted avg       0.85      0.86      0.85      3083\n",
            "\n",
            "K value = 4\n",
            "              precision    recall  f1-score   support\n",
            "\n",
            "           0       0.88      0.97      0.93      2636\n",
            "           1       0.62      0.25      0.36       447\n",
            "\n",
            "    accuracy                           0.87      3083\n",
            "   macro avg       0.75      0.61      0.64      3083\n",
            "weighted avg       0.85      0.87      0.85      3083\n",
            "\n",
            "K value = 5\n",
            "              precision    recall  f1-score   support\n",
            "\n",
            "           0       0.89      0.96      0.93      2636\n",
            "           1       0.58      0.32      0.41       447\n",
            "\n",
            "    accuracy                           0.87      3083\n",
            "   macro avg       0.74      0.64      0.67      3083\n",
            "weighted avg       0.85      0.87      0.85      3083\n",
            "\n",
            "K value = 6\n",
            "              precision    recall  f1-score   support\n",
            "\n",
            "           0       0.88      0.98      0.93      2636\n",
            "           1       0.68      0.24      0.35       447\n",
            "\n",
            "    accuracy                           0.87      3083\n",
            "   macro avg       0.78      0.61      0.64      3083\n",
            "weighted avg       0.85      0.87      0.85      3083\n",
            "\n",
            "K value = 7\n",
            "              precision    recall  f1-score   support\n",
            "\n",
            "           0       0.89      0.97      0.93      2636\n",
            "           1       0.63      0.28      0.38       447\n",
            "\n",
            "    accuracy                           0.87      3083\n",
            "   macro avg       0.76      0.62      0.66      3083\n",
            "weighted avg       0.85      0.87      0.85      3083\n",
            "\n",
            "K value = 8\n",
            "              precision    recall  f1-score   support\n",
            "\n",
            "           0       0.88      0.98      0.93      2636\n",
            "           1       0.71      0.23      0.35       447\n",
            "\n",
            "    accuracy                           0.87      3083\n",
            "   macro avg       0.80      0.61      0.64      3083\n",
            "weighted avg       0.86      0.87      0.85      3083\n",
            "\n",
            "K value = 9\n",
            "              precision    recall  f1-score   support\n",
            "\n",
            "           0       0.89      0.98      0.93      2636\n",
            "           1       0.65      0.26      0.37       447\n",
            "\n",
            "    accuracy                           0.87      3083\n",
            "   macro avg       0.77      0.62      0.65      3083\n",
            "weighted avg       0.85      0.87      0.85      3083\n",
            "\n",
            "K value = 10\n",
            "              precision    recall  f1-score   support\n",
            "\n",
            "           0       0.88      0.98      0.93      2636\n",
            "           1       0.70      0.22      0.34       447\n",
            "\n",
            "    accuracy                           0.87      3083\n",
            "   macro avg       0.79      0.60      0.63      3083\n",
            "weighted avg       0.85      0.87      0.84      3083\n",
            "\n"
          ],
          "name": "stdout"
        }
      ]
    },
    {
      "cell_type": "markdown",
      "metadata": {
        "id": "9xdZI-2a1pYs"
      },
      "source": [
        "#<b>Naive Bayes</b>"
      ]
    },
    {
      "cell_type": "code",
      "metadata": {
        "colab": {
          "base_uri": "https://localhost:8080/"
        },
        "id": "YYm6AkgSyOMh",
        "outputId": "41b98c64-0bb6-43cb-c4e7-59edbe2a429c"
      },
      "source": [
        "from sklearn.naive_bayes import ComplementNB\n",
        "nb_comp = ComplementNB()\n",
        "nb_comp.fit(x_train, y_train)\n",
        "\n",
        "y_pred_nb_comp = nb_comp.predict(x_test)\n",
        "\n",
        "from sklearn.metrics import classification_report\n",
        "print(classification_report(y_test, y_pred_nb_comp))"
      ],
      "execution_count": null,
      "outputs": [
        {
          "output_type": "stream",
          "text": [
            "              precision    recall  f1-score   support\n",
            "\n",
            "           0       0.94      0.92      0.93      2636\n",
            "           1       0.59      0.64      0.61       447\n",
            "\n",
            "    accuracy                           0.88      3083\n",
            "   macro avg       0.76      0.78      0.77      3083\n",
            "weighted avg       0.89      0.88      0.88      3083\n",
            "\n"
          ],
          "name": "stdout"
        }
      ]
    },
    {
      "cell_type": "markdown",
      "metadata": {
        "id": "VlICa4u_1yDT"
      },
      "source": [
        "#<b>Decision Trees</b>"
      ]
    },
    {
      "cell_type": "code",
      "metadata": {
        "colab": {
          "base_uri": "https://localhost:8080/"
        },
        "id": "wEz6zy-B1KBR",
        "outputId": "632e4d8d-6b98-4cb2-efac-8d3682b97d68"
      },
      "source": [
        "from sklearn.tree import DecisionTreeClassifier\n",
        "dtree = DecisionTreeClassifier(criterion = 'gini')\n",
        "\n",
        "dtree.fit(x_train, y_train)\n",
        "\n",
        "y_pred_dtree = dtree.predict(x_test)\n",
        "\n",
        "from sklearn.metrics import classification_report\n",
        "print(classification_report(y_test, y_pred_dtree))"
      ],
      "execution_count": null,
      "outputs": [
        {
          "output_type": "stream",
          "text": [
            "              precision    recall  f1-score   support\n",
            "\n",
            "           0       0.92      0.91      0.92      2636\n",
            "           1       0.52      0.55      0.54       447\n",
            "\n",
            "    accuracy                           0.86      3083\n",
            "   macro avg       0.72      0.73      0.73      3083\n",
            "weighted avg       0.87      0.86      0.86      3083\n",
            "\n"
          ],
          "name": "stdout"
        }
      ]
    },
    {
      "cell_type": "code",
      "metadata": {
        "id": "vCiBPbB62aeh"
      },
      "source": [
        "prune_path = dtree.cost_complexity_pruning_path(x_train, y_train)\n",
        "alphas = prune_path.ccp_alphas \n",
        "impurities = prune_path.impurities\n",
        "\n",
        "new_dtrees = []\n",
        "i = 0\n",
        "\n",
        "for alpha in alphas:\n",
        "    new_dtree = DecisionTreeClassifier(criterion = 'gini', ccp_alpha=alpha)\n",
        "    new_dtree.fit(x_train, y_train)\n",
        "\n",
        "    new_dtrees.append(new_dtree)"
      ],
      "execution_count": null,
      "outputs": []
    },
    {
      "cell_type": "code",
      "metadata": {
        "colab": {
          "base_uri": "https://localhost:8080/"
        },
        "id": "iAN16hYX4nlC",
        "outputId": "b2bc1f87-3915-45ce-9d6e-e5077be864b5"
      },
      "source": [
        "test_scores = [new_dtree.score(x_test,y_test) for new_dtree in new_dtrees]\n",
        "print('max f1 test score = {}'.format(max(test_scores)))\n",
        "print('position of max f1 = {}'.format(np.argmax(test_scores)))\n",
        "\n",
        "pruned_dtree = DecisionTreeClassifier(criterion='gini', ccp_alpha=alphas[np.argmax(test_scores)])\n",
        "\n",
        "pruned_dtree.fit(x_train, y_train)\n",
        "\n",
        "yt_pred_dtree = pruned_dtree.predict(x_test)\n",
        "\n",
        "from sklearn.metrics import classification_report\n",
        "print(classification_report(y_test, yt_pred_dtree))"
      ],
      "execution_count": null,
      "outputs": [
        {
          "output_type": "stream",
          "text": [
            "max f1 test score = 0.9062601362309439\n",
            "position of max f1 = 309\n",
            "              precision    recall  f1-score   support\n",
            "\n",
            "           0       0.93      0.97      0.95      2636\n",
            "           1       0.74      0.54      0.63       447\n",
            "\n",
            "    accuracy                           0.91      3083\n",
            "   macro avg       0.83      0.75      0.79      3083\n",
            "weighted avg       0.90      0.91      0.90      3083\n",
            "\n"
          ],
          "name": "stdout"
        }
      ]
    },
    {
      "cell_type": "markdown",
      "metadata": {
        "id": "WXvVku7u-LS7"
      },
      "source": [
        "#<b>AUC AND ROC CURVE</b>"
      ]
    },
    {
      "cell_type": "code",
      "metadata": {
        "id": "nolBCbVH5oTR"
      },
      "source": [
        "logreg_probs = log_reg.predict_proba(x_test)\n",
        "knn_grid_probs = knn_grid.predict_proba(x_test)\n",
        "nb_comp_probs = nb_comp.predict_log_proba(x_test)\n",
        "dtree_probs = pruned_dtree.predict_proba(x_test)"
      ],
      "execution_count": null,
      "outputs": []
    },
    {
      "cell_type": "code",
      "metadata": {
        "id": "fk__IcJh-IaV"
      },
      "source": [
        "logreg_probs = logreg_probs[:, 1]\n",
        "knn_grid_probs = knn_grid_probs[:,1]\n",
        "nb_comp_probs = nb_comp_probs[:,1]\n",
        "dtree_probs = dtree_probs[:,1]"
      ],
      "execution_count": null,
      "outputs": []
    },
    {
      "cell_type": "code",
      "metadata": {
        "colab": {
          "base_uri": "https://localhost:8080/"
        },
        "id": "BHk6TpRQ-olt",
        "outputId": "c4071415-b1d8-43e9-f4f9-4ed4097a85d7"
      },
      "source": [
        "from sklearn.metrics import roc_auc_score\n",
        "\n",
        "logreg_auc = roc_auc_score(y_test,logreg_probs)\n",
        "knn_grid_auc = roc_auc_score(y_test, knn_grid_probs)\n",
        "nb_comp_auc = roc_auc_score(y_test, nb_comp_probs)\n",
        "dtree_auc = roc_auc_score(y_test, dtree_probs)\n",
        "\n",
        "print('Logistic: ROC AUC = {}'.format(round(logreg_auc,3)))\n",
        "print(\"KNN: ROC AUC = {}\".format(round(knn_grid_auc,3)))\n",
        "print('NB: ROC AUC = {}'.format(round(nb_comp_auc,3)))\n",
        "print('DTREE: ROC AUC = {}'.format(round(dtree_auc,3)))"
      ],
      "execution_count": null,
      "outputs": [
        {
          "output_type": "stream",
          "text": [
            "Logistic: ROC AUC = 0.889\n",
            "KNN: ROC AUC = 0.655\n",
            "NB: ROC AUC = 0.75\n",
            "DTREE: ROC AUC = 0.909\n"
          ],
          "name": "stdout"
        }
      ]
    },
    {
      "cell_type": "code",
      "metadata": {
        "id": "eBILwIZj_zQl"
      },
      "source": [
        "from sklearn.metrics import roc_curve\n",
        "\n",
        "logreg_fpr, logreg_tpr, lr_thres = roc_curve(y_test, logreg_probs)\n",
        "knn_fpr, knn_tpr, knn_thres = roc_curve(y_test, knn_grid_probs)\n",
        "nb_fpr, nb_tpr, nb_thres = roc_curve(y_test, nb_comp_probs)\n",
        "dtree_fpr, dtree_tpr, dtree_thres = roc_curve(y_test, dtree_probs) "
      ],
      "execution_count": null,
      "outputs": []
    },
    {
      "cell_type": "code",
      "metadata": {
        "colab": {
          "base_uri": "https://localhost:8080/",
          "height": 497
        },
        "id": "r6kYNxqcBiBv",
        "outputId": "87eec061-1490-4bfd-9a77-529d3041170c"
      },
      "source": [
        "fig, ax = plt.subplots(figsize = (10,8))\n",
        "ax.plot(logreg_fpr, logreg_tpr, marker='.', label='Logistic')\n",
        "ax.plot(knn_fpr, knn_tpr, marker='.', label='KNN')\n",
        "ax.plot(nb_fpr, nb_tpr, marker='.', label='NB')\n",
        "ax.plot(dtree_fpr, dtree_tpr, marker='.', label = 'Dtree')\n",
        "\n",
        "plt.xlabel('False Positive Rate')\n",
        "plt.ylabel('True Positive Rate')\n",
        "\n",
        "plt.legend(loc = 5)\n",
        "\n",
        "plt.show()"
      ],
      "execution_count": null,
      "outputs": [
        {
          "output_type": "display_data",
          "data": {
            "image/png": "[encoded data removed]",
            "text/plain": [
              "<Figure size 720x576 with 1 Axes>"
            ]
          },
          "metadata": {
            "tags": []
          }
        }
      ]
    },
    {
      "cell_type": "markdown",
      "metadata": {
        "id": "OBSFHjxQSK2y"
      },
      "source": [
        "#<b>ENSEMBLE</b>"
      ]
    },
    {
      "cell_type": "markdown",
      "metadata": {
        "id": "NkhOVYi-SSa6"
      },
      "source": [
        "#<i>random forest </i>"
      ]
    },
    {
      "cell_type": "code",
      "metadata": {
        "colab": {
          "base_uri": "https://localhost:8080/"
        },
        "id": "x-5IgK9RCRS9",
        "outputId": "193c41d4-c7fa-44a1-bdb1-9df0fd1cb4fd"
      },
      "source": [
        "from sklearn.ensemble import RandomForestClassifier\n",
        "\n",
        "rf = RandomForestClassifier(n_estimators=1000)\n",
        "rf.fit(x_train, y_train)"
      ],
      "execution_count": null,
      "outputs": [
        {
          "output_type": "execute_result",
          "data": {
            "text/plain": [
              "RandomForestClassifier(bootstrap=True, ccp_alpha=0.0, class_weight=None,\n",
              "                       criterion='gini', max_depth=None, max_features='auto',\n",
              "                       max_leaf_nodes=None, max_samples=None,\n",
              "                       min_impurity_decrease=0.0, min_impurity_split=None,\n",
              "                       min_samples_leaf=1, min_samples_split=2,\n",
              "                       min_weight_fraction_leaf=0.0, n_estimators=1000,\n",
              "                       n_jobs=None, oob_score=False, random_state=None,\n",
              "                       verbose=0, warm_start=False)"
            ]
          },
          "metadata": {
            "tags": []
          },
          "execution_count": 36
        }
      ]
    },
    {
      "cell_type": "code",
      "metadata": {
        "id": "YOMiMHbMU8kT"
      },
      "source": [
        "y_pred_rf = rf.predict(x_test)"
      ],
      "execution_count": null,
      "outputs": []
    },
    {
      "cell_type": "code",
      "metadata": {
        "colab": {
          "base_uri": "https://localhost:8080/"
        },
        "id": "eOZVX3odWQTk",
        "outputId": "87d9e9ed-e6e9-49fa-b2eb-1c9a7b786a12"
      },
      "source": [
        "from sklearn.metrics import classification_report\n",
        "print(classification_report(y_test, y_pred_rf)) "
      ],
      "execution_count": null,
      "outputs": [
        {
          "output_type": "stream",
          "text": [
            "              precision    recall  f1-score   support\n",
            "\n",
            "           0       0.93      0.96      0.95      2636\n",
            "           1       0.72      0.56      0.63       447\n",
            "\n",
            "    accuracy                           0.90      3083\n",
            "   macro avg       0.82      0.76      0.79      3083\n",
            "weighted avg       0.90      0.90      0.90      3083\n",
            "\n"
          ],
          "name": "stdout"
        }
      ]
    },
    {
      "cell_type": "code",
      "metadata": {
        "colab": {
          "base_uri": "https://localhost:8080/"
        },
        "id": "sJAHlgCMWcOV",
        "outputId": "920c3e21-eeef-49b9-ceef-3906990514e3"
      },
      "source": [
        "rf_probs = rf.predict_proba(x_test)\n",
        "rf_probs = rf_probs[:, 1]\n",
        "rf_auc = roc_auc_score(y_test, rf_probs)\n",
        "print('random Forest: ROC AUC = {}%'.format(round(rf_auc,3)))"
      ],
      "execution_count": null,
      "outputs": [
        {
          "output_type": "stream",
          "text": [
            "random Forest: ROC AUC = 0.93%\n"
          ],
          "name": "stdout"
        }
      ]
    },
    {
      "cell_type": "code",
      "metadata": {
        "id": "wtehPlOpW6id"
      },
      "source": [
        "rf_fpr, rf_tpr, rf_thres = roc_curve(y_test, rf_probs)"
      ],
      "execution_count": null,
      "outputs": []
    },
    {
      "cell_type": "code",
      "metadata": {
        "colab": {
          "base_uri": "https://localhost:8080/",
          "height": 497
        },
        "id": "h7rTpUZAXfZp",
        "outputId": "4f58e956-89e3-44a2-c5a9-973c74ef2dc9"
      },
      "source": [
        "fig, ax = plt.subplots(figsize=(10,8))\n",
        "ax.plot(logreg_fpr, logreg_tpr, marker='.', label='Logistic')\n",
        "ax.plot(knn_fpr, knn_tpr, marker='.', label='KNN')\n",
        "ax.plot(nb_fpr, nb_tpr, marker='.', label='NB')\n",
        "ax.plot(dtree_fpr, dtree_tpr, marker='.', label = 'Dtree')\n",
        "ax.plot(rf_fpr,rf_tpr,marker='.', label='Random Forest')\n",
        "\n",
        "plt.xlabel('False Positive Rate')\n",
        "plt.ylabel('true Positive rate')\n",
        "\n",
        "plt.legend(loc = 5)\n",
        "\n",
        "plt.show()"
      ],
      "execution_count": null,
      "outputs": [
        {
          "output_type": "display_data",
          "data": {
            "image/png": "[encoded data removed]",
            "text/plain": [
              "<Figure size 720x576 with 1 Axes>"
            ]
          },
          "metadata": {
            "tags": []
          }
        }
      ]
    },
    {
      "cell_type": "code",
      "metadata": {
        "id": "5BGTSHjgYhnF"
      },
      "source": [
        "from sklearn.preprocessing import OneHotEncoder"
      ],
      "execution_count": null,
      "outputs": []
    },
    {
      "cell_type": "code",
      "metadata": {
        "colab": {
          "base_uri": "https://localhost:8080/"
        },
        "id": "je37Gi3Rdv7Q",
        "outputId": "f09cfc57-a513-428b-fe43-0dd121be602b"
      },
      "source": [
        "x_train, x_train_lr, y_train, y_train_lr = train_test_split(x_train, y_train, test_size=0.60, shuffle=True)\n",
        "\n",
        "rf = RandomForestClassifier(n_estimators=1000)\n",
        "\n",
        "rf.fit(x_train, y_train)\n",
        "\n",
        "rf_enc = OneHotEncoder()\n",
        "\n",
        "rf_enc.fit(rf.apply(x_train))"
      ],
      "execution_count": null,
      "outputs": [
        {
          "output_type": "execute_result",
          "data": {
            "text/plain": [
              "OneHotEncoder(categories='auto', drop=None, dtype=<class 'numpy.float64'>,\n",
              "              handle_unknown='error', sparse=True)"
            ]
          },
          "metadata": {
            "tags": []
          },
          "execution_count": 43
        }
      ]
    },
    {
      "cell_type": "code",
      "metadata": {
        "colab": {
          "background_save": true
        },
        "id": "WwndULDTeM0a",
        "outputId": "92443b72-74f2-4f75-da1a-601eb83440ac"
      },
      "source": [
        "fold = StratifiedKFold(n_splits=5, random_state=1, shuffle=True)\n",
        "fold.get_n_splits(x_train, y_train)\n",
        "\n",
        "parameters = {'solver' : ('newton-cg','liblinear','sag','saga'), 'C': [0.001,10]}\n",
        "\n",
        "model = LogisticRegression(penalty='l2', n_jobs=-2, max_iter=1000)                                                                       \n",
        "rf_lr = GridSearchCV(model, parameters, n_jobs=-2, cv=fold)\n",
        "\n",
        "rf_lr.fit(rf_enc.transform(rf.apply(x_train_lr)), y_train_lr)\n",
        "print(rf_lr.best_params_)"
      ],
      "execution_count": null,
      "outputs": [
        {
          "output_type": "stream",
          "text": [
            "{'C': 0.001, 'solver': 'liblinear'}\n"
          ],
          "name": "stdout"
        }
      ]
    },
    {
      "cell_type": "code",
      "metadata": {
        "colab": {
          "background_save": true
        },
        "id": "r2JuBjcBfbUo"
      },
      "source": [
        "yprobs_rf_lr = rf_lr.predict_proba(rf_enc.transform(rf.apply(x_test)))\n",
        "y_probs_rf_lr = yprobs_rf_lr[:, 1]"
      ],
      "execution_count": null,
      "outputs": []
    },
    {
      "cell_type": "code",
      "metadata": {
        "colab": {
          "background_save": true
        },
        "id": "495Zg_gdk6kO"
      },
      "source": [
        "fpr_rf_lr, tpr_rf_lr, thres_rf_lr = roc_curve(y_test,y_probs_rf_lr)"
      ],
      "execution_count": null,
      "outputs": []
    },
    {
      "cell_type": "code",
      "metadata": {
        "colab": {
          "background_save": true
        },
        "id": "7fIiPZY-lIqW",
        "outputId": "566debbe-f1de-4d14-95c6-78649cb8832e"
      },
      "source": [
        "fig, ax = plt.subplots(figsize=(10,8))\n",
        "ax.plot(logreg_fpr, logreg_tpr, marker='.', label='Logistic')\n",
        "ax.plot(knn_fpr, knn_tpr, marker='.', label='KNN')\n",
        "ax.plot(nb_fpr, nb_tpr, marker='.', label='NB')\n",
        "ax.plot(dtree_fpr, dtree_tpr, marker='.', label = 'Dtree')\n",
        "ax.plot(rf_fpr,rf_tpr,marker='.', label='Random Forest')\n",
        "ax.plot(fpr_rf_lr, tpr_rf_lr, marker='.', label='Random Forest + LR')\n",
        "\n",
        "plt.xlabel('False Positive Rate')\n",
        "plt.ylabel('true Positive rate')\n",
        "\n",
        "plt.legend(loc = 5)\n",
        "\n",
        "plt.show()"
      ],
      "execution_count": null,
      "outputs": [
        {
          "output_type": "display_data",
          "data": {
            "image/png": "[encoded data removed]",
            "text/plain": [
              "<Figure size 720x576 with 1 Axes>"
            ]
          },
          "metadata": {
            "tags": []
          }
        }
      ]
    },
    {
      "cell_type": "code",
      "metadata": {
        "colab": {
          "background_save": true
        },
        "id": "H8blORgPsbPT",
        "outputId": "81193403-de9c-4ecb-ea90-2d1f36475499"
      },
      "source": [
        "from sklearn.ensemble import GradientBoostingClassifier\n",
        "\n",
        "grd = GradientBoostingClassifier(n_estimators=1000, loss='deviance',learning_rate=0.01)\n",
        "\n",
        "grd.fit(x_train,y_train)\n",
        "\n",
        "y_probs_grd = grd.predict_proba(x_test)[:,1]\n",
        "fpr_grd, tpr_grd,thres_grd = roc_curve(y_test, y_probs_grd)\n",
        "\n",
        "fpr_grd_auc = roc_auc_score(y_test, y_probs_grd)\n",
        "\n",
        "print('Gradient Boosting: ROC AUC = {}'.format(round(fpr_grd_auc,3)))"
      ],
      "execution_count": null,
      "outputs": [
        {
          "output_type": "stream",
          "text": [
            "Gradient Boosting: ROC AUC = 0.93\n"
          ],
          "name": "stdout"
        }
      ]
    },
    {
      "cell_type": "code",
      "metadata": {
        "colab": {
          "background_save": true
        },
        "id": "9v9EpMz_uAyU",
        "outputId": "840ed529-bc2d-415a-9543-1811b9a41a86"
      },
      "source": [
        "fig, ax = plt.subplots(figsize=(10,8))\n",
        "ax.plot(logreg_fpr, logreg_tpr, marker='.', label='Logistic')\n",
        "ax.plot(knn_fpr, knn_tpr, marker='.', label='KNN')\n",
        "ax.plot(nb_fpr, nb_tpr, marker='.', label='NB')\n",
        "ax.plot(dtree_fpr, dtree_tpr, marker='.', label = 'Dtree')\n",
        "ax.plot(rf_fpr,rf_tpr,marker='.', label='Random Forest')\n",
        "ax.plot(fpr_rf_lr, tpr_rf_lr, marker='.', label='Random Forest + LR')\n",
        "ax.plot(fpr_grd, tpr_grd, marker='.', label='Gradient Boosted')\n",
        "\n",
        "\n",
        "plt.xlabel('False Positive Rate')\n",
        "plt.ylabel('true Positive rate')\n",
        "\n",
        "plt.legend(loc = 5)\n",
        "\n",
        "plt.show()"
      ],
      "execution_count": null,
      "outputs": [
        {
          "output_type": "display_data",
          "data": {
            "image/png": "[encoded data removed]",
            "text/plain": [
              "<Figure size 720x576 with 1 Axes>"
            ]
          },
          "metadata": {
            "tags": []
          }
        }
      ]
    },
    {
      "cell_type": "code",
      "metadata": {
        "colab": {
          "background_save": true
        },
        "id": "t31Kyo9LutYu",
        "outputId": "1782a066-7b76-449b-ff6e-afe084182c8d"
      },
      "source": [
        "x_train, x_train_lr, y_train, y_train_lr = train_test_split(x_train, y_train, test_size=0.60, shuffle= True)\n",
        "\n",
        "grd = GradientBoostingClassifier(n_estimators=1000, loss='deviance', learning_rate=0.01)\n",
        "\n",
        "grd.fit(x_train, y_train)\n",
        "\n",
        "grd_enc = OneHotEncoder()\n",
        "\n",
        "grd_leaves = grd.apply(x_train)[:,:,0]\n",
        "\n",
        "grd_enc.fit(grd_leaves)"
      ],
      "execution_count": null,
      "outputs": [
        {
          "output_type": "execute_result",
          "data": {
            "text/plain": [
              "OneHotEncoder(categories='auto', drop=None, dtype=<class 'numpy.float64'>,\n",
              "              handle_unknown='error', sparse=True)"
            ]
          },
          "metadata": {
            "tags": []
          },
          "execution_count": 0
        }
      ]
    },
    {
      "cell_type": "code",
      "metadata": {
        "colab": {
          "background_save": true
        },
        "id": "lykAAxh-x7CS",
        "outputId": "8101b82e-fe9f-4474-8fe7-c3081fc97a54"
      },
      "source": [
        "fold = StratifiedKFold(n_splits=5, random_state=1, shuffle=True)\n",
        "fold.get_n_splits(x_train, y_train)\n",
        "\n",
        "parameters = {'solver':('newton-cg','liblinear','sag','saga'), 'C':[0.01,10]}\n",
        "\n",
        "model = LogisticRegression(penalty='l2', n_jobs=-2, max_iter=1000)\n",
        "grd_lr = GridSearchCV(model, parameters, n_jobs=-2, cv=fold)\n",
        "\n",
        "grd_leaves = grd.apply(x_train_lr)[:,:,0]\n",
        "\n",
        "x_train_lr = grd_enc.transform(grd_leaves)\n",
        "grd_lr.fit(x_train_lr,y_train_lr)"
      ],
      "execution_count": null,
      "outputs": [
        {
          "output_type": "stream",
          "text": [
            "/usr/local/lib/python3.6/dist-packages/sklearn/linear_model/_sag.py:330: ConvergenceWarning: The max_iter was reached which means the coef_ did not converge\n",
            "  \"the coef_ did not converge\", ConvergenceWarning)\n",
            "/usr/local/lib/python3.6/dist-packages/sklearn/linear_model/_sag.py:330: ConvergenceWarning: The max_iter was reached which means the coef_ did not converge\n",
            "  \"the coef_ did not converge\", ConvergenceWarning)\n",
            "/usr/local/lib/python3.6/dist-packages/sklearn/linear_model/_sag.py:330: ConvergenceWarning: The max_iter was reached which means the coef_ did not converge\n",
            "  \"the coef_ did not converge\", ConvergenceWarning)\n",
            "/usr/local/lib/python3.6/dist-packages/sklearn/linear_model/_sag.py:330: ConvergenceWarning: The max_iter was reached which means the coef_ did not converge\n",
            "  \"the coef_ did not converge\", ConvergenceWarning)\n",
            "/usr/local/lib/python3.6/dist-packages/sklearn/linear_model/_sag.py:330: ConvergenceWarning: The max_iter was reached which means the coef_ did not converge\n",
            "  \"the coef_ did not converge\", ConvergenceWarning)\n",
            "/usr/local/lib/python3.6/dist-packages/sklearn/linear_model/_sag.py:330: ConvergenceWarning: The max_iter was reached which means the coef_ did not converge\n",
            "  \"the coef_ did not converge\", ConvergenceWarning)\n",
            "/usr/local/lib/python3.6/dist-packages/sklearn/linear_model/_sag.py:330: ConvergenceWarning: The max_iter was reached which means the coef_ did not converge\n",
            "  \"the coef_ did not converge\", ConvergenceWarning)\n",
            "/usr/local/lib/python3.6/dist-packages/sklearn/linear_model/_sag.py:330: ConvergenceWarning: The max_iter was reached which means the coef_ did not converge\n",
            "  \"the coef_ did not converge\", ConvergenceWarning)\n",
            "/usr/local/lib/python3.6/dist-packages/sklearn/linear_model/_sag.py:330: ConvergenceWarning: The max_iter was reached which means the coef_ did not converge\n",
            "  \"the coef_ did not converge\", ConvergenceWarning)\n",
            "/usr/local/lib/python3.6/dist-packages/sklearn/linear_model/_sag.py:330: ConvergenceWarning: The max_iter was reached which means the coef_ did not converge\n",
            "  \"the coef_ did not converge\", ConvergenceWarning)\n"
          ],
          "name": "stderr"
        },
        {
          "output_type": "execute_result",
          "data": {
            "text/plain": [
              "GridSearchCV(cv=StratifiedKFold(n_splits=5, random_state=1, shuffle=True),\n",
              "             error_score=nan,\n",
              "             estimator=LogisticRegression(C=1.0, class_weight=None, dual=False,\n",
              "                                          fit_intercept=True,\n",
              "                                          intercept_scaling=1, l1_ratio=None,\n",
              "                                          max_iter=1000, multi_class='auto',\n",
              "                                          n_jobs=-2, penalty='l2',\n",
              "                                          random_state=None, solver='lbfgs',\n",
              "                                          tol=0.0001, verbose=0,\n",
              "                                          warm_start=False),\n",
              "             iid='deprecated', n_jobs=-2,\n",
              "             param_grid={'C': [0.01, 10],\n",
              "                         'solver': ('newton-cg', 'liblinear', 'sag', 'saga')},\n",
              "             pre_dispatch='2*n_jobs', refit=True, return_train_score=False,\n",
              "             scoring=None, verbose=0)"
            ]
          },
          "metadata": {
            "tags": []
          },
          "execution_count": 0
        }
      ]
    },
    {
      "cell_type": "code",
      "metadata": {
        "colab": {
          "background_save": true
        },
        "id": "PkCOuvr8y9S8",
        "outputId": "b8df810a-017b-4864-9d04-6e012e0ff2dd"
      },
      "source": [
        "tgrd_leaves = grd.apply(x_test)[:,:,0]\n",
        "\n",
        "tgrd_fea = grd_enc.transform(tgrd_leaves)\n",
        "\n",
        "yprobs_grd_lr = grd_lr.predict_proba(tgrd_fea)[:,1]\n",
        "\n",
        "fpr_grd_lr, tpr_grd_lr, thres_grd_lr = roc_curve(y_test, yprobs_grd_lr)\n",
        "\n",
        "fpr_grd_lr_auc = roc_auc_score(y_test, yprobs_grd_lr)\n",
        "\n",
        "print('Gradient boosting and log reg: ROC AUC= {}%'.format(round(fpr_grd_lr_auc,3)))"
      ],
      "execution_count": null,
      "outputs": [
        {
          "output_type": "stream",
          "text": [
            "Gradient boosting and log reg: ROC AUC= 0.925%\n"
          ],
          "name": "stdout"
        }
      ]
    },
    {
      "cell_type": "code",
      "metadata": {
        "colab": {
          "background_save": true
        },
        "id": "e1QevCWa1G8U",
        "outputId": "3228f301-07c2-4682-ad3c-4ce87037d247"
      },
      "source": [
        "fig, ax = plt.subplots(figsize=(10,8))\n",
        "ax.plot(logreg_fpr, logreg_tpr, marker='.', label='Logistic')\n",
        "ax.plot(knn_fpr, knn_tpr, marker='.', label='KNN')\n",
        "ax.plot(nb_fpr, nb_tpr, marker='.', label='NB')\n",
        "ax.plot(dtree_fpr, dtree_tpr, marker='.', label = 'Dtree')\n",
        "ax.plot(rf_fpr,rf_tpr,marker='.', label='Random Forest')\n",
        "ax.plot(fpr_rf_lr, tpr_rf_lr, marker='.', label='Random Forest + LR')\n",
        "ax.plot(fpr_grd, tpr_grd, marker='.', label='Gradient Boosted')\n",
        "ax.plot(fpr_grd_lr, tpr_grd_lr, marker='.', label='Gradient Boosted + LR')\n",
        "\n",
        "\n",
        "plt.xlabel('False Positive Rate')\n",
        "plt.ylabel('true Positive rate')\n",
        "\n",
        "plt.legend(loc = 5)\n",
        "\n",
        "plt.show()"
      ],
      "execution_count": null,
      "outputs": [
        {
          "output_type": "display_data",
          "data": {
            "image/png": "[encoded data removed]",
            "text/plain": [
              "<Figure size 720x576 with 1 Axes>"
            ]
          },
          "metadata": {
            "tags": []
          }
        }
      ]
    },
    {
      "cell_type": "code",
      "metadata": {
        "colab": {
          "background_save": true
        },
        "id": "OwqrPnsP2zEP"
      },
      "source": [
        ""
      ],
      "execution_count": null,
      "outputs": []
    }
  ]
}