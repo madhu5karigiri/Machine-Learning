{
  "nbformat": 4,
  "nbformat_minor": 0,
  "metadata": {
    "kernelspec": {
      "display_name": "Python 3",
      "language": "python",
      "name": "python3"
    },
    "language_info": {
      "codemirror_mode": {
        "name": "ipython",
        "version": 3
      },
      "file_extension": ".py",
      "mimetype": "text/x-python",
      "name": "python",
      "nbconvert_exporter": "python",
      "pygments_lexer": "ipython3",
      "version": "3.6.2"
    },
    "toc": {
      "colors": {
        "hover_highlight": "#DAA520",
        "navigate_num": "#000000",
        "navigate_text": "#333333",
        "running_highlight": "#FF0000",
        "selected_highlight": "#FFD700",
        "sidebar_border": "#EEEEEE",
        "wrapper_background": "#FFFFFF"
      },
      "moveMenuLeft": true,
      "nav_menu": {
        "height": "12px",
        "width": "252px"
      },
      "navigate_menu": true,
      "number_sections": true,
      "sideBar": true,
      "threshold": 4,
      "toc_cell": false,
      "toc_section_display": "block",
      "toc_window_display": false,
      "widenNotebook": false
    },
    "colab": {
      "name": "Support Vector Machines.ipynb",
      "provenance": [],
      "collapsed_sections": []
    }
  },
  "cells": [
    {
      "cell_type": "code",
      "metadata": {
        "id": "iG6y9HWirOv6",
        "colab": {
          "base_uri": "https://localhost:8080/"
        },
        "outputId": "53938b16-4e9e-4c74-86c5-b8217b201aad"
      },
      "source": [
        "from google.colab import drive\n",
        "drive.mount('/gdrive')"
      ],
      "execution_count": null,
      "outputs": [
        {
          "output_type": "stream",
          "text": [
            "Mounted at /gdrive\n"
          ],
          "name": "stdout"
        }
      ]
    },
    {
      "cell_type": "code",
      "metadata": {
        "id": "l59YCCETrRjN"
      },
      "source": [
        "path = '/gdrive/My Drive/DATA/'"
      ],
      "execution_count": null,
      "outputs": []
    },
    {
      "cell_type": "markdown",
      "metadata": {
        "id": "Vxy1s8-ZrAbL"
      },
      "source": [
        "**Classifying Muffins and Cupcakes with SVM**"
      ]
    },
    {
      "cell_type": "markdown",
      "metadata": {
        "id": "isKj_52RrAbL"
      },
      "source": [
        "__Step 1:__ Import Packages"
      ]
    },
    {
      "cell_type": "code",
      "metadata": {
        "id": "2MZnNSDNrAbM"
      },
      "source": [
        "# Packages for analysis\n",
        "import pandas as pd\n",
        "import numpy as np\n",
        "from sklearn import svm\n",
        "# Packages for visuals\n",
        "import matplotlib.pyplot as plt\n",
        "import seaborn as sns; sns.set(font_scale=1.2)\n",
        "# Allows charts to appear in the notebook\n",
        "%matplotlib inline"
      ],
      "execution_count": null,
      "outputs": []
    },
    {
      "cell_type": "markdown",
      "metadata": {
        "id": "wkZm0KdNrAbQ"
      },
      "source": [
        "__Step 2:__ Import Data"
      ]
    },
    {
      "cell_type": "code",
      "metadata": {
        "id": "QAT1L_pLrAbQ",
        "colab": {
          "base_uri": "https://localhost:8080/",
          "height": 634
        },
        "outputId": "5532dae5-e81c-42d7-cf23-12150fd01ebb"
      },
      "source": [
        "# Read in muffin and cupcake ingredient data\n",
        "recipes = pd.read_csv(path+'recipes_muffins_cupcake.csv')\n",
        "recipes"
      ],
      "execution_count": null,
      "outputs": [
        {
          "output_type": "execute_result",
          "data": {
            "text/html": [
              "<div>\n",
              "<style scoped>\n",
              "    .dataframe tbody tr th:only-of-type {\n",
              "        vertical-align: middle;\n",
              "    }\n",
              "\n",
              "    .dataframe tbody tr th {\n",
              "        vertical-align: top;\n",
              "    }\n",
              "\n",
              "    .dataframe thead th {\n",
              "        text-align: right;\n",
              "    }\n",
              "</style>\n",
              "<table border=\"1\" class=\"dataframe\">\n",
              "  <thead>\n",
              "    <tr style=\"text-align: right;\">\n",
              "      <th></th>\n",
              "      <th>Type</th>\n",
              "      <th>Flour</th>\n",
              "      <th>Sugar</th>\n",
              "    </tr>\n",
              "  </thead>\n",
              "  <tbody>\n",
              "    <tr>\n",
              "      <th>0</th>\n",
              "      <td>Muffin</td>\n",
              "      <td>55</td>\n",
              "      <td>3</td>\n",
              "    </tr>\n",
              "    <tr>\n",
              "      <th>1</th>\n",
              "      <td>Muffin</td>\n",
              "      <td>47</td>\n",
              "      <td>12</td>\n",
              "    </tr>\n",
              "    <tr>\n",
              "      <th>2</th>\n",
              "      <td>Muffin</td>\n",
              "      <td>47</td>\n",
              "      <td>18</td>\n",
              "    </tr>\n",
              "    <tr>\n",
              "      <th>3</th>\n",
              "      <td>Muffin</td>\n",
              "      <td>45</td>\n",
              "      <td>17</td>\n",
              "    </tr>\n",
              "    <tr>\n",
              "      <th>4</th>\n",
              "      <td>Muffin</td>\n",
              "      <td>50</td>\n",
              "      <td>12</td>\n",
              "    </tr>\n",
              "    <tr>\n",
              "      <th>5</th>\n",
              "      <td>Muffin</td>\n",
              "      <td>55</td>\n",
              "      <td>3</td>\n",
              "    </tr>\n",
              "    <tr>\n",
              "      <th>6</th>\n",
              "      <td>Muffin</td>\n",
              "      <td>54</td>\n",
              "      <td>7</td>\n",
              "    </tr>\n",
              "    <tr>\n",
              "      <th>7</th>\n",
              "      <td>Muffin</td>\n",
              "      <td>47</td>\n",
              "      <td>10</td>\n",
              "    </tr>\n",
              "    <tr>\n",
              "      <th>8</th>\n",
              "      <td>Muffin</td>\n",
              "      <td>50</td>\n",
              "      <td>17</td>\n",
              "    </tr>\n",
              "    <tr>\n",
              "      <th>9</th>\n",
              "      <td>Muffin</td>\n",
              "      <td>50</td>\n",
              "      <td>17</td>\n",
              "    </tr>\n",
              "    <tr>\n",
              "      <th>10</th>\n",
              "      <td>Cupcake</td>\n",
              "      <td>39</td>\n",
              "      <td>26</td>\n",
              "    </tr>\n",
              "    <tr>\n",
              "      <th>11</th>\n",
              "      <td>Cupcake</td>\n",
              "      <td>42</td>\n",
              "      <td>16</td>\n",
              "    </tr>\n",
              "    <tr>\n",
              "      <th>12</th>\n",
              "      <td>Cupcake</td>\n",
              "      <td>34</td>\n",
              "      <td>20</td>\n",
              "    </tr>\n",
              "    <tr>\n",
              "      <th>13</th>\n",
              "      <td>Cupcake</td>\n",
              "      <td>39</td>\n",
              "      <td>17</td>\n",
              "    </tr>\n",
              "    <tr>\n",
              "      <th>14</th>\n",
              "      <td>Cupcake</td>\n",
              "      <td>38</td>\n",
              "      <td>23</td>\n",
              "    </tr>\n",
              "    <tr>\n",
              "      <th>15</th>\n",
              "      <td>Cupcake</td>\n",
              "      <td>42</td>\n",
              "      <td>25</td>\n",
              "    </tr>\n",
              "    <tr>\n",
              "      <th>16</th>\n",
              "      <td>Cupcake</td>\n",
              "      <td>36</td>\n",
              "      <td>21</td>\n",
              "    </tr>\n",
              "    <tr>\n",
              "      <th>17</th>\n",
              "      <td>Cupcake</td>\n",
              "      <td>38</td>\n",
              "      <td>31</td>\n",
              "    </tr>\n",
              "    <tr>\n",
              "      <th>18</th>\n",
              "      <td>Cupcake</td>\n",
              "      <td>36</td>\n",
              "      <td>24</td>\n",
              "    </tr>\n",
              "    <tr>\n",
              "      <th>19</th>\n",
              "      <td>Cupcake</td>\n",
              "      <td>34</td>\n",
              "      <td>23</td>\n",
              "    </tr>\n",
              "  </tbody>\n",
              "</table>\n",
              "</div>"
            ],
            "text/plain": [
              "       Type  Flour  Sugar\n",
              "0    Muffin     55      3\n",
              "1    Muffin     47     12\n",
              "2    Muffin     47     18\n",
              "3    Muffin     45     17\n",
              "4    Muffin     50     12\n",
              "5    Muffin     55      3\n",
              "6    Muffin     54      7\n",
              "7    Muffin     47     10\n",
              "8    Muffin     50     17\n",
              "9    Muffin     50     17\n",
              "10  Cupcake     39     26\n",
              "11  Cupcake     42     16\n",
              "12  Cupcake     34     20\n",
              "13  Cupcake     39     17\n",
              "14  Cupcake     38     23\n",
              "15  Cupcake     42     25\n",
              "16  Cupcake     36     21\n",
              "17  Cupcake     38     31\n",
              "18  Cupcake     36     24\n",
              "19  Cupcake     34     23"
            ]
          },
          "metadata": {
            "tags": []
          },
          "execution_count": 4
        }
      ]
    },
    {
      "cell_type": "markdown",
      "metadata": {
        "id": "8lnsozLFrAbT"
      },
      "source": [
        "__Step 3:__ Prepare the Data"
      ]
    },
    {
      "cell_type": "code",
      "metadata": {
        "id": "_aX9J_v7urwK",
        "colab": {
          "base_uri": "https://localhost:8080/"
        },
        "outputId": "9b2fd52b-56e6-463c-9329-d2da897542d3"
      },
      "source": [
        "# Feature names\n",
        "recipe_features = recipes.columns.values[1:].tolist()\n",
        "recipe_features"
      ],
      "execution_count": null,
      "outputs": [
        {
          "output_type": "execute_result",
          "data": {
            "text/plain": [
              "['Flour', 'Sugar']"
            ]
          },
          "metadata": {
            "tags": []
          },
          "execution_count": 5
        }
      ]
    },
    {
      "cell_type": "code",
      "metadata": {
        "id": "DVTxuSOEuWzJ",
        "colab": {
          "base_uri": "https://localhost:8080/",
          "height": 194
        },
        "outputId": "15e4ed4c-b300-4287-b429-3fb2bb3f2cc2"
      },
      "source": [
        "from sklearn.preprocessing import LabelEncoder\n",
        "\n",
        "recipe_type_encoder = LabelEncoder()\n",
        "\n",
        "recipes['Type'] = recipe_type_encoder.fit_transform(recipes['Type'])\n",
        "recipes.head()"
      ],
      "execution_count": null,
      "outputs": [
        {
          "output_type": "execute_result",
          "data": {
            "text/html": [
              "<div>\n",
              "<style scoped>\n",
              "    .dataframe tbody tr th:only-of-type {\n",
              "        vertical-align: middle;\n",
              "    }\n",
              "\n",
              "    .dataframe tbody tr th {\n",
              "        vertical-align: top;\n",
              "    }\n",
              "\n",
              "    .dataframe thead th {\n",
              "        text-align: right;\n",
              "    }\n",
              "</style>\n",
              "<table border=\"1\" class=\"dataframe\">\n",
              "  <thead>\n",
              "    <tr style=\"text-align: right;\">\n",
              "      <th></th>\n",
              "      <th>Type</th>\n",
              "      <th>Flour</th>\n",
              "      <th>Sugar</th>\n",
              "    </tr>\n",
              "  </thead>\n",
              "  <tbody>\n",
              "    <tr>\n",
              "      <th>0</th>\n",
              "      <td>1</td>\n",
              "      <td>55</td>\n",
              "      <td>3</td>\n",
              "    </tr>\n",
              "    <tr>\n",
              "      <th>1</th>\n",
              "      <td>1</td>\n",
              "      <td>47</td>\n",
              "      <td>12</td>\n",
              "    </tr>\n",
              "    <tr>\n",
              "      <th>2</th>\n",
              "      <td>1</td>\n",
              "      <td>47</td>\n",
              "      <td>18</td>\n",
              "    </tr>\n",
              "    <tr>\n",
              "      <th>3</th>\n",
              "      <td>1</td>\n",
              "      <td>45</td>\n",
              "      <td>17</td>\n",
              "    </tr>\n",
              "    <tr>\n",
              "      <th>4</th>\n",
              "      <td>1</td>\n",
              "      <td>50</td>\n",
              "      <td>12</td>\n",
              "    </tr>\n",
              "  </tbody>\n",
              "</table>\n",
              "</div>"
            ],
            "text/plain": [
              "   Type  Flour  Sugar\n",
              "0     1     55      3\n",
              "1     1     47     12\n",
              "2     1     47     18\n",
              "3     1     45     17\n",
              "4     1     50     12"
            ]
          },
          "metadata": {
            "tags": []
          },
          "execution_count": 6
        }
      ]
    },
    {
      "cell_type": "code",
      "metadata": {
        "id": "ImMdHt0prAbW"
      },
      "source": [
        "# Specify inputs for the model\n",
        "x = recipes[['Flour','Sugar']]\n",
        "x"
      ],
      "execution_count": null,
      "outputs": []
    },
    {
      "cell_type": "code",
      "metadata": {
        "id": "vdB6EZmru9KA"
      },
      "source": [
        "y = recipes['Type']\n",
        "y"
      ],
      "execution_count": null,
      "outputs": []
    },
    {
      "cell_type": "code",
      "metadata": {
        "id": "CEmslGqHwoj9",
        "colab": {
          "base_uri": "https://localhost:8080/"
        },
        "outputId": "bc0a9159-1071-4c76-c546-df9fa8448efc"
      },
      "source": [
        "from sklearn.linear_model import LogisticRegression\n",
        "model = LogisticRegression(max_iter=10000)\n",
        "\n",
        "model.fit(x, y)"
      ],
      "execution_count": null,
      "outputs": [
        {
          "output_type": "execute_result",
          "data": {
            "text/plain": [
              "LogisticRegression(C=1.0, class_weight=None, dual=False, fit_intercept=True,\n",
              "                   intercept_scaling=1, l1_ratio=None, max_iter=10000,\n",
              "                   multi_class='auto', n_jobs=None, penalty='l2',\n",
              "                   random_state=None, solver='lbfgs', tol=0.0001, verbose=0,\n",
              "                   warm_start=False)"
            ]
          },
          "metadata": {
            "tags": []
          },
          "execution_count": 9
        }
      ]
    },
    {
      "cell_type": "code",
      "metadata": {
        "id": "NvTxvfYWzCvF",
        "colab": {
          "base_uri": "https://localhost:8080/"
        },
        "outputId": "f05045a2-2966-4760-b270-5db3ee1ca030"
      },
      "source": [
        "theta_0 = model.intercept_[0]\n",
        "print('theta 0 = {}'.format(theta_0))"
      ],
      "execution_count": null,
      "outputs": [
        {
          "output_type": "stream",
          "text": [
            "theta 0 = -39.151240626209535\n"
          ],
          "name": "stdout"
        }
      ]
    },
    {
      "cell_type": "code",
      "metadata": {
        "id": "MEJqM6IDwzyh",
        "colab": {
          "base_uri": "https://localhost:8080/"
        },
        "outputId": "0acdd3fa-396b-4c48-8905-78b242e2fc4e"
      },
      "source": [
        "theta = model.coef_[0]\n",
        "print('theta 1 = {} , theta 2 = {}'.format(theta[0], theta[1]))"
      ],
      "execution_count": null,
      "outputs": [
        {
          "output_type": "stream",
          "text": [
            "theta 1 = 0.9800068467133003 , theta 2 = -0.2086799629774002\n"
          ],
          "name": "stdout"
        }
      ]
    },
    {
      "cell_type": "code",
      "metadata": {
        "id": "rIRqRAShzsOn",
        "colab": {
          "base_uri": "https://localhost:8080/"
        },
        "outputId": "b813233e-6368-4c60-db12-812e9fecd1fc"
      },
      "source": [
        "print('Min and Max of Sugar = {}, {}'.format(recipes['Sugar'].min(),recipes['Sugar'].max() ))\n",
        "print('Min and Max of Flour = {}, {}'.format(recipes['Flour'].min(),recipes['Flour'].max()))"
      ],
      "execution_count": null,
      "outputs": [
        {
          "output_type": "stream",
          "text": [
            "Min and Max of Sugar = 3, 31\n",
            "Min and Max of Flour = 34, 55\n"
          ],
          "name": "stdout"
        }
      ]
    },
    {
      "cell_type": "code",
      "metadata": {
        "id": "eSvUpFv80sBj"
      },
      "source": [
        "Flour_for_line = np.linspace(30, 60)\n",
        "sugar_for_line = -(theta_0 + theta[0]*Flour_for_line)/theta[1]"
      ],
      "execution_count": null,
      "outputs": []
    },
    {
      "cell_type": "code",
      "metadata": {
        "id": "bWWydm8223K8",
        "colab": {
          "base_uri": "https://localhost:8080/",
          "height": 465
        },
        "outputId": "83903314-4862-4e60-a9fb-aab447542b0c"
      },
      "source": [
        "sns.lmplot('Flour', 'Sugar', data=recipes, hue='Type', palette='Set1', fit_reg=False, scatter_kws={\"s\": 70})\n",
        "plt.plot(Flour_for_line,sugar_for_line, linewidth=2, color='green')\n",
        "plt.ylim(0, 40)"
      ],
      "execution_count": null,
      "outputs": [
        {
          "output_type": "stream",
          "text": [
            "/usr/local/lib/python3.6/dist-packages/seaborn/_decorators.py:43: FutureWarning: Pass the following variables as keyword args: x, y. From version 0.12, the only valid positional argument will be `data`, and passing other arguments without an explicit keyword will result in an error or misinterpretation.\n",
            "  FutureWarning\n"
          ],
          "name": "stderr"
        },
        {
          "output_type": "execute_result",
          "data": {
            "text/plain": [
              "(0.0, 40.0)"
            ]
          },
          "metadata": {
            "tags": []
          },
          "execution_count": 14
        },
        {
          "output_type": "display_data",
          "data": {
            "image/png": "[encoded data removed]",
            "text/plain": [
              "<Figure size 416.02x360 with 1 Axes>"
            ]
          },
          "metadata": {
            "tags": [],
            "needs_background": "light"
          }
        }
      ]
    },
    {
      "cell_type": "markdown",
      "metadata": {
        "id": "JBc_uCporAbZ"
      },
      "source": [
        "__Step 4:__ Fit the Model"
      ]
    },
    {
      "cell_type": "code",
      "metadata": {
        "id": "t5tdhsZ8rAbZ",
        "colab": {
          "base_uri": "https://localhost:8080/"
        },
        "outputId": "c04e0f8c-003a-4d21-ec9e-963cab4edb37"
      },
      "source": [
        "# Fit the SVM model\n",
        "svm_model = svm.SVC(kernel='linear')\n",
        "svm_model.fit(x, y)"
      ],
      "execution_count": null,
      "outputs": [
        {
          "output_type": "execute_result",
          "data": {
            "text/plain": [
              "SVC(C=1.0, break_ties=False, cache_size=200, class_weight=None, coef0=0.0,\n",
              "    decision_function_shape='ovr', degree=3, gamma='scale', kernel='linear',\n",
              "    max_iter=-1, probability=False, random_state=None, shrinking=True,\n",
              "    tol=0.001, verbose=False)"
            ]
          },
          "metadata": {
            "tags": []
          },
          "execution_count": 15
        }
      ]
    },
    {
      "cell_type": "markdown",
      "metadata": {
        "id": "eT84TyAUrAbc"
      },
      "source": [
        "__Step 5:__ Visualize Results"
      ]
    },
    {
      "cell_type": "code",
      "metadata": {
        "id": "chVGL8Nl6KrK",
        "colab": {
          "base_uri": "https://localhost:8080/"
        },
        "outputId": "d5e9a462-cbcf-4c51-aefb-9ea9da76102c"
      },
      "source": [
        "svm_theta_0 = svm_model.intercept_[0]\n",
        "print('SVM theta 0 = {}'.format(svm_theta_0))"
      ],
      "execution_count": null,
      "outputs": [
        {
          "output_type": "stream",
          "text": [
            "SVM theta 0 = -28.993497423663204\n"
          ],
          "name": "stdout"
        }
      ]
    },
    {
      "cell_type": "code",
      "metadata": {
        "id": "IaukaiMc6cWV",
        "colab": {
          "base_uri": "https://localhost:8080/"
        },
        "outputId": "c16bd352-3467-4dfc-dace-7b1f375d158e"
      },
      "source": [
        "svm_theta = svm_model.coef_[0]\n",
        "print('SVM theta 1 = {}, theta 2 = {}'.format(svm_theta[0], svm_theta[1]))"
      ],
      "execution_count": null,
      "outputs": [
        {
          "output_type": "stream",
          "text": [
            "SVM theta 1 = 0.6665372621624517, theta 2 = -4.852668907817659e-05\n"
          ],
          "name": "stdout"
        }
      ]
    },
    {
      "cell_type": "code",
      "metadata": {
        "id": "99o4vCeXUC0I"
      },
      "source": [
        "flour_line = np.linspace((x['Flour'].min())-5,(x['Flour'].max())+5)\n",
        "sugar_line = -(svm_theta_0 + svm_theta[0]*flour_line)/svm_theta[1]"
      ],
      "execution_count": null,
      "outputs": []
    },
    {
      "cell_type": "code",
      "metadata": {
        "id": "9es5KAc4rAbi",
        "colab": {
          "base_uri": "https://localhost:8080/",
          "height": 465
        },
        "outputId": "6b497915-5cef-4397-cf88-2f3d44778b20"
      },
      "source": [
        "# Plot the hyperplane\n",
        "sns.lmplot('Flour', 'Sugar', data=recipes, hue='Type', palette='Set1', fit_reg=False, scatter_kws={\"s\": 70})\n",
        "plt.plot(flour_line, sugar_line, linewidth=2, color='black');\n",
        "plt.ylim(0, 40)"
      ],
      "execution_count": null,
      "outputs": [
        {
          "output_type": "stream",
          "text": [
            "/usr/local/lib/python3.6/dist-packages/seaborn/_decorators.py:43: FutureWarning: Pass the following variables as keyword args: x, y. From version 0.12, the only valid positional argument will be `data`, and passing other arguments without an explicit keyword will result in an error or misinterpretation.\n",
            "  FutureWarning\n"
          ],
          "name": "stderr"
        },
        {
          "output_type": "execute_result",
          "data": {
            "text/plain": [
              "(0.0, 40.0)"
            ]
          },
          "metadata": {
            "tags": []
          },
          "execution_count": 19
        },
        {
          "output_type": "display_data",
          "data": {
            "image/png": "[encoded data removed]",
            "text/plain": [
              "<Figure size 416.02x360 with 1 Axes>"
            ]
          },
          "metadata": {
            "tags": [],
            "needs_background": "light"
          }
        }
      ]
    },
    {
      "cell_type": "code",
      "metadata": {
        "id": "P-j4ArYB9g35",
        "colab": {
          "base_uri": "https://localhost:8080/"
        },
        "outputId": "55789a26-655c-4675-ecc1-61611a2e3266"
      },
      "source": [
        "svm_model.support_"
      ],
      "execution_count": null,
      "outputs": [
        {
          "output_type": "execute_result",
          "data": {
            "text/plain": [
              "array([11, 15,  3], dtype=int32)"
            ]
          },
          "metadata": {
            "tags": []
          },
          "execution_count": 20
        }
      ]
    },
    {
      "cell_type": "code",
      "metadata": {
        "id": "ExFq9Rd89nFh",
        "colab": {
          "base_uri": "https://localhost:8080/"
        },
        "outputId": "94d75d4c-a252-4557-db79-b2b76469ce20"
      },
      "source": [
        "svm_model.support_vectors_"
      ],
      "execution_count": null,
      "outputs": [
        {
          "output_type": "execute_result",
          "data": {
            "text/plain": [
              "array([[42., 16.],\n",
              "       [42., 25.],\n",
              "       [45., 17.]])"
            ]
          },
          "metadata": {
            "tags": []
          },
          "execution_count": 21
        }
      ]
    },
    {
      "cell_type": "code",
      "metadata": {
        "id": "pz7cScgb9tf6",
        "colab": {
          "base_uri": "https://localhost:8080/"
        },
        "outputId": "060d29cf-3b8b-4fe5-9f8c-a6c0c64aa23f"
      },
      "source": [
        "svm_model.n_support_"
      ],
      "execution_count": null,
      "outputs": [
        {
          "output_type": "execute_result",
          "data": {
            "text/plain": [
              "array([2, 1], dtype=int32)"
            ]
          },
          "metadata": {
            "tags": []
          },
          "execution_count": 22
        }
      ]
    },
    {
      "cell_type": "markdown",
      "metadata": {
        "id": "AzVY0JahrAbn"
      },
      "source": [
        "__Step 6:__ Predict New Case"
      ]
    },
    {
      "cell_type": "code",
      "metadata": {
        "id": "g9UTczunrAbo"
      },
      "source": [
        "# Create a function to guess when a recipe is a muffin or a cupcake\n",
        "def muffin_or_cupcake(Flour, Sugar):\n",
        "    if(svm_model.predict([[Flour, Sugar]]))==0:\n",
        "        print('You\\'re looking at a muffin recipe!')\n",
        "    else:\n",
        "        print('You\\'re looking at a cupcake recipe!')"
      ],
      "execution_count": null,
      "outputs": []
    },
    {
      "cell_type": "code",
      "metadata": {
        "id": "ZPC7VysOrAbq",
        "colab": {
          "base_uri": "https://localhost:8080/"
        },
        "outputId": "f4fb58dc-39f0-465a-9042-4e2566f10945"
      },
      "source": [
        "# Predict if 50 parts flour and 20 parts sugar\n",
        "muffin_or_cupcake(50, 20)"
      ],
      "execution_count": null,
      "outputs": [
        {
          "output_type": "stream",
          "text": [
            "You're looking at a cupcake recipe!\n"
          ],
          "name": "stdout"
        }
      ]
    },
    {
      "cell_type": "code",
      "metadata": {
        "id": "W3pflslqrAbu",
        "colab": {
          "base_uri": "https://localhost:8080/",
          "height": 465
        },
        "outputId": "edaf81a9-43a6-47be-d929-c23c96c6ed7a"
      },
      "source": [
        "# Plot the point to visually see where the point lies\n",
        "sns.lmplot('Flour', 'Sugar', data=recipes, hue='Type', palette='Set1', fit_reg=False, scatter_kws={\"s\": 70})\n",
        "plt.plot(flour_line, sugar_line, linewidth=2, color='black')\n",
        "plt.plot(50, 20, 'yo', markersize='9');\n",
        "plt.ylim(0,40)"
      ],
      "execution_count": null,
      "outputs": [
        {
          "output_type": "stream",
          "text": [
            "/usr/local/lib/python3.6/dist-packages/seaborn/_decorators.py:43: FutureWarning: Pass the following variables as keyword args: x, y. From version 0.12, the only valid positional argument will be `data`, and passing other arguments without an explicit keyword will result in an error or misinterpretation.\n",
            "  FutureWarning\n"
          ],
          "name": "stderr"
        },
        {
          "output_type": "execute_result",
          "data": {
            "text/plain": [
              "(0.0, 40.0)"
            ]
          },
          "metadata": {
            "tags": []
          },
          "execution_count": 25
        },
        {
          "output_type": "display_data",
          "data": {
            "image/png": "[encoded data removed]",
            "text/plain": [
              "<Figure size 416.02x360 with 1 Axes>"
            ]
          },
          "metadata": {
            "tags": [],
            "needs_background": "light"
          }
        }
      ]
    },
    {
      "cell_type": "code",
      "metadata": {
        "id": "Ntv6hbWcVLni",
        "colab": {
          "base_uri": "https://localhost:8080/",
          "height": 289
        },
        "outputId": "b061adeb-afc8-46f7-f161-4c9a7043bd8d"
      },
      "source": [
        "from sklearn.datasets.samples_generator import make_circles\n",
        "X, y = make_circles(100, factor=.1, noise=.1)\n",
        "\n",
        "plt.scatter(X[:, 0], X[:, 1], c=y, s=50, cmap='autumn')"
      ],
      "execution_count": null,
      "outputs": [
        {
          "output_type": "execute_result",
          "data": {
            "text/plain": [
              "<matplotlib.collections.PathCollection at 0x7f66ed916f28>"
            ]
          },
          "metadata": {
            "tags": []
          },
          "execution_count": 48
        },
        {
          "output_type": "display_data",
          "data": {
            "image/png": "[encoded data removed]",
            "text/plain": [
              "<Figure size 432x288 with 1 Axes>"
            ]
          },
          "metadata": {
            "tags": [],
            "needs_background": "light"
          }
        }
      ]
    },
    {
      "cell_type": "markdown",
      "metadata": {
        "id": "UzaN1thvOY-o"
      },
      "source": [
        "Radial Basis Function"
      ]
    },
    {
      "cell_type": "code",
      "metadata": {
        "colab": {
          "base_uri": "https://localhost:8080/"
        },
        "id": "MInI8guaN6k1",
        "outputId": "6906e75e-907d-4ec9-a514-044ee1e12e7a"
      },
      "source": [
        "radial = np.exp(-(X ** 2).sum(1))\n",
        "radial.shape, X.shape"
      ],
      "execution_count": null,
      "outputs": [
        {
          "output_type": "execute_result",
          "data": {
            "text/plain": [
              "((100,), (100, 2))"
            ]
          },
          "metadata": {
            "tags": []
          },
          "execution_count": 50
        }
      ]
    },
    {
      "cell_type": "code",
      "metadata": {
        "colab": {
          "base_uri": "https://localhost:8080/",
          "height": 266
        },
        "id": "BjIy1o1hPiYP",
        "outputId": "986710ad-95a2-4aa8-dce5-ac093f582131"
      },
      "source": [
        "from mpl_toolkits import mplot3d\n",
        "\n",
        "ax = plt.subplot(projection='3d')\n",
        "ax.scatter3D(X[:, 0], X[:, 1], radial, c=y, s=50, cmap='autumn')\n",
        "ax.set_xlabel('x')\n",
        "ax.set_ylabel('y')\n",
        "ax.set_zlabel('r')\n"
      ],
      "execution_count": null,
      "outputs": [
        {
          "output_type": "execute_result",
          "data": {
            "text/plain": [
              "Text(0.5, 0, 'r')"
            ]
          },
          "metadata": {
            "tags": []
          },
          "execution_count": 51
        },
        {
          "output_type": "display_data",
          "data": {
            "image/png": "[encoded data removed]",
            "text/plain": [
              "<Figure size 432x288 with 1 Axes>"
            ]
          },
          "metadata": {
            "tags": [],
            "needs_background": "light"
          }
        }
      ]
    },
    {
      "cell_type": "code",
      "metadata": {
        "id": "D_5Z8IkWPixz"
      },
      "source": [
        ""
      ],
      "execution_count": null,
      "outputs": []
    }
  ]
}